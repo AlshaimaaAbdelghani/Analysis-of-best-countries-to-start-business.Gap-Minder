{
 "cells": [
  {
   "cell_type": "markdown",
   "metadata": {},
   "source": [
    "> **Tip**: Welcome to the Investigate a Dataset project! You will find tips in quoted sections like this to help organize your approach to your investigation. Before submitting your project, it will be a good idea to go back through your report and remove these sections to make the presentation of your work as tidy as possible. First things first, you might want to double-click this Markdown cell and change the title so that it reflects your dataset and investigation.\n",
    "\n",
    "# Project: Investigate 2019 startup business related statistics  \n",
    "\n",
    "## Table of Contents\n",
    "<ul>\n",
    "<li><a href=\"#intro\">Introduction</a></li>\n",
    "<li><a href=\"#wrangling\">Data Wrangling</a></li>\n",
    "<li><a href=\"#eda\">Exploratory Data Analysis</a></li>\n",
    "<li><a href=\"#conclusions\">Conclusions</a></li>\n",
    "</ul>"
   ]
  },
  {
   "cell_type": "markdown",
   "metadata": {},
   "source": [
    "<a id='intro'></a>\n",
    "## Introduction\n",
    "\n",
    "> **Tip**: from gap minder datasets, other datasets, private sector and trading, business environment, I have chosen the \"Ease of doing business index ( 1 = most business friendly regulations)\", \"Business extent of disclosure index (0=less disclosure to 10=more disclosure)\" and \"cost of business startup precedures (% of GNI per capita)\". \n",
    "\n",
    "**Explanation of the data**:\n",
    ">First: Ease of doing business index ( 1 = most business friendly regulations), it means that Ease of doing business ranks economies from 1 to 190, with first place being the best. A high ranking (a low numerical rank) means that the regulatory environment is conducive to business operation. \n",
    ">source: https://www.indexmundi.com/facts/japan/indicator/IC.BUS.EASE.XQ#:~:text=Japan%20-%20Ease%20of%20doing%20business%20index%20%281%3Dmost,the%20regulatory%20environment%20is%20conducive%20to%20business%20operation.\n",
    ">\n",
    ">Second:  Cost of business startup precedures (% of GNI per capita), it means costs to register a business which is normalized by presenting it as a percentage of gross national income (GNI) per capita.\n",
    ">source: https://www.indexmundi.com/facts/indicators/IC.REG.COST.PC.ZS#:~:text=Cost%20of%20business%20start-up%20procedures%20%28%25%20of%20GNI,%28%25%20of%20GNI%20per%20capita%29%20varies%20by%20country.\n",
    ">\n",
    ">Third: Business extent of disclosure index (0=less disclosure to 10=more disclosure), it means that Disclosure index measures the extent to which investors are protected through disclosure of ownership and financial information. The index ranges from 0 to 10, with higher values indicating more disclosure.\n",
    ">source:https://www.indexmundi.com/facts/indicators/IC.BUS.DISC.XQ#:~:text=Business%20extent%20of%20disclosure%20index%20%280%3Dless%20disclosure%20to,to%2010%2C%20with%20higher%20values%20indicating%20more%20disclosure.\n",
    ">\n",
    ">\n",
    ">\n",
    "**The analysis process:** (What to expect !)\n",
    ">Fist thing was to preapre just one clean file to explore it, so cleaning and wrangling the data was criucial, especially that one of the datases is available for 2019 only.\n",
    ">Since, we have understood the meaning of the data, it is clear that the questions are related to the countries with the best easiness of doing the business as this what enterpreneurs look for, keeping mind that this is not the only factor that will make the enterpreneur take the final decision to start or to do business in a certain country, as cost is crucial.\n",
    ">Never to ignore the investors who will help the business start and grow, those who care about the extent of disclosure, to make sure that their financial information is protected.\n",
    ">Usually the Enterpreneur will kepp that in mind while deciding which country/ countries is the most suitable.\n",
    ">that´s why the first step, after cleaning the data, was to explore and visulaise relationships between individual variable and multiple ones too.\n",
    ">\n",
    ">Here, I decided which of the questions based on the data that could help in the decision making process effectively.\n",
    ">\n",
    ">So, to help in the decision making, i prefered to attach the cost of business startup procedures, as it is crucial in decision making, let´s say a certain country is the most friendly but when it comes to the precedures cost, it is very high, then the decision to choose this country would be hard. \n",
    "That´s how i concluded that it is important to know if there´s a relationship between the cost of procedures and easiness of doing a business and especially if it is a good relationship for the enterpreneur, that´s how i came up with the first question to help in decision making.\n",
    ">**First question: Are the countires with high easiness index have low precedures cost?**\n",
    ">\n",
    ">Then after i found the relationship, and if it is really good for the enterpreneur, it will be helpful to simply identify the top countries with such traits, and check their disclosure index from 1 to ten, to help in more precise decision makinig process.\n",
    ">Hence, the most important second question to ask is\n",
    ">**Second question:Identify top 5 countires with lowest cost precedures, and top 5 countires with with highest ease of doing business procedures? then the top in both together with mentioning their disclosure index?**\n",
    ">\n",
    ">Answering these questions will be helpful for those thinking about starting an international business and trying to identify patterns to choose where they could start depending on those indicators as a first step in directing their search.\n",
    ">\n",
    "> the dependent variable is the countries and the three independents are the cost of business, ease of business, and extent of disclosure.\n",
    ">Finally, I will draw conlsuion and insights based on the outcome."
   ]
  },
  {
   "cell_type": "markdown",
   "metadata": {},
   "source": [
    "Let´s import packages that i plan to use in this project. and use the magic \"%\" to view the graphs in this notebook."
   ]
  },
  {
   "cell_type": "code",
   "execution_count": 1,
   "metadata": {},
   "outputs": [],
   "source": [
    "import pandas as pd\n",
    "import numpy as np\n",
    "import matplotlib.pyplot as plt\n",
    "import seaborn as sns\n",
    "from pandas.api.types import is_numeric_dtype\n",
    "%matplotlib inline"
   ]
  },
  {
   "cell_type": "markdown",
   "metadata": {},
   "source": [
    "<a id='wrangling'></a>\n",
    "## Data Wrangling\n",
    "\n",
    "> **Tip**: In this section of the report, you will load in the data, check for cleanliness, and then trim and clean your dataset for analysis. Make sure that you document your steps carefully and justify your cleaning decisions.\n",
    "\n",
    "### General Properties"
   ]
  },
  {
   "cell_type": "code",
   "execution_count": 2,
   "metadata": {},
   "outputs": [],
   "source": [
    "df_ease = pd.read_csv('ic_bus_ease_xq.csv')\n",
    "df_cost = pd.read_csv('ic_reg_cost_pc_zs.csv')\n",
    "df_disclosure = pd.read_csv('ic_bus_disc_xq.csv')"
   ]
  },
  {
   "cell_type": "markdown",
   "metadata": {},
   "source": [
    "Loading the files that contain the data we need.\n",
    "\n",
    "**First file** contains information about \"Ease of doing business index ( 1 = most business friendly regulations)\", that will be refered to as \"df_ease\".\n",
    "\n",
    "**Second file** contains information about \"  Cost of business startup precedures (% of GNI per capita)\", that will be refered to as \"df_cost\".\n",
    "\n",
    "**Third file** contains information about \"Business extent of disclosure index (0=less disclosure to 10=more disclosure)\", that will be refered to as \"df_disclosure\".\n",
    "\n",
    "then, reviewing each file content."
   ]
  },
  {
   "cell_type": "code",
   "execution_count": 3,
   "metadata": {},
   "outputs": [
    {
     "data": {
      "text/html": [
       "<div>\n",
       "<style scoped>\n",
       "    .dataframe tbody tr th:only-of-type {\n",
       "        vertical-align: middle;\n",
       "    }\n",
       "\n",
       "    .dataframe tbody tr th {\n",
       "        vertical-align: top;\n",
       "    }\n",
       "\n",
       "    .dataframe thead th {\n",
       "        text-align: right;\n",
       "    }\n",
       "</style>\n",
       "<table border=\"1\" class=\"dataframe\">\n",
       "  <thead>\n",
       "    <tr style=\"text-align: right;\">\n",
       "      <th></th>\n",
       "      <th>country</th>\n",
       "      <th>2019</th>\n",
       "    </tr>\n",
       "  </thead>\n",
       "  <tbody>\n",
       "    <tr>\n",
       "      <th>0</th>\n",
       "      <td>Afghanistan</td>\n",
       "      <td>173</td>\n",
       "    </tr>\n",
       "  </tbody>\n",
       "</table>\n",
       "</div>"
      ],
      "text/plain": [
       "       country  2019\n",
       "0  Afghanistan   173"
      ]
     },
     "execution_count": 3,
     "metadata": {},
     "output_type": "execute_result"
    }
   ],
   "source": [
    "df_ease.head(1)"
   ]
  },
  {
   "cell_type": "code",
   "execution_count": 4,
   "metadata": {},
   "outputs": [
    {
     "data": {
      "text/html": [
       "<div>\n",
       "<style scoped>\n",
       "    .dataframe tbody tr th:only-of-type {\n",
       "        vertical-align: middle;\n",
       "    }\n",
       "\n",
       "    .dataframe tbody tr th {\n",
       "        vertical-align: top;\n",
       "    }\n",
       "\n",
       "    .dataframe thead th {\n",
       "        text-align: right;\n",
       "    }\n",
       "</style>\n",
       "<table border=\"1\" class=\"dataframe\">\n",
       "  <thead>\n",
       "    <tr style=\"text-align: right;\">\n",
       "      <th></th>\n",
       "      <th>country</th>\n",
       "      <th>2003</th>\n",
       "      <th>2004</th>\n",
       "      <th>2005</th>\n",
       "      <th>2006</th>\n",
       "      <th>2007</th>\n",
       "      <th>2008</th>\n",
       "      <th>2009</th>\n",
       "      <th>2010</th>\n",
       "      <th>2011</th>\n",
       "      <th>2012</th>\n",
       "      <th>2013</th>\n",
       "      <th>2014</th>\n",
       "      <th>2015</th>\n",
       "      <th>2016</th>\n",
       "      <th>2017</th>\n",
       "      <th>2018</th>\n",
       "      <th>2019</th>\n",
       "    </tr>\n",
       "  </thead>\n",
       "  <tbody>\n",
       "    <tr>\n",
       "      <th>0</th>\n",
       "      <td>Afghanistan</td>\n",
       "      <td>NaN</td>\n",
       "      <td>72.0</td>\n",
       "      <td>75.2</td>\n",
       "      <td>67.4</td>\n",
       "      <td>84.6</td>\n",
       "      <td>59.5</td>\n",
       "      <td>30.2</td>\n",
       "      <td>26.7</td>\n",
       "      <td>25.8</td>\n",
       "      <td>22.5</td>\n",
       "      <td>14.4</td>\n",
       "      <td>15.1</td>\n",
       "      <td>19.0</td>\n",
       "      <td>19.9</td>\n",
       "      <td>82.3</td>\n",
       "      <td>6.4</td>\n",
       "      <td>6.8</td>\n",
       "    </tr>\n",
       "  </tbody>\n",
       "</table>\n",
       "</div>"
      ],
      "text/plain": [
       "       country  2003  2004  2005  2006  2007  2008  2009  2010  2011  2012  \\\n",
       "0  Afghanistan   NaN  72.0  75.2  67.4  84.6  59.5  30.2  26.7  25.8  22.5   \n",
       "\n",
       "   2013  2014  2015  2016  2017  2018  2019  \n",
       "0  14.4  15.1  19.0  19.9  82.3   6.4   6.8  "
      ]
     },
     "execution_count": 4,
     "metadata": {},
     "output_type": "execute_result"
    }
   ],
   "source": [
    "df_cost.head(1)"
   ]
  },
  {
   "cell_type": "code",
   "execution_count": 5,
   "metadata": {},
   "outputs": [
    {
     "data": {
      "text/html": [
       "<div>\n",
       "<style scoped>\n",
       "    .dataframe tbody tr th:only-of-type {\n",
       "        vertical-align: middle;\n",
       "    }\n",
       "\n",
       "    .dataframe tbody tr th {\n",
       "        vertical-align: top;\n",
       "    }\n",
       "\n",
       "    .dataframe thead th {\n",
       "        text-align: right;\n",
       "    }\n",
       "</style>\n",
       "<table border=\"1\" class=\"dataframe\">\n",
       "  <thead>\n",
       "    <tr style=\"text-align: right;\">\n",
       "      <th></th>\n",
       "      <th>country</th>\n",
       "      <th>2005</th>\n",
       "      <th>2006</th>\n",
       "      <th>2007</th>\n",
       "      <th>2008</th>\n",
       "      <th>2009</th>\n",
       "      <th>2010</th>\n",
       "      <th>2011</th>\n",
       "      <th>2012</th>\n",
       "      <th>2013</th>\n",
       "      <th>2014</th>\n",
       "      <th>2015</th>\n",
       "      <th>2016</th>\n",
       "      <th>2017</th>\n",
       "      <th>2018</th>\n",
       "      <th>2019</th>\n",
       "    </tr>\n",
       "  </thead>\n",
       "  <tbody>\n",
       "    <tr>\n",
       "      <th>0</th>\n",
       "      <td>Afghanistan</td>\n",
       "      <td>1.0</td>\n",
       "      <td>1.0</td>\n",
       "      <td>1.0</td>\n",
       "      <td>1.0</td>\n",
       "      <td>1.0</td>\n",
       "      <td>1.0</td>\n",
       "      <td>1.0</td>\n",
       "      <td>1.0</td>\n",
       "      <td>1.0</td>\n",
       "      <td>1.0</td>\n",
       "      <td>1.0</td>\n",
       "      <td>1.0</td>\n",
       "      <td>1.0</td>\n",
       "      <td>8.0</td>\n",
       "      <td>8.0</td>\n",
       "    </tr>\n",
       "  </tbody>\n",
       "</table>\n",
       "</div>"
      ],
      "text/plain": [
       "       country  2005  2006  2007  2008  2009  2010  2011  2012  2013  2014  \\\n",
       "0  Afghanistan   1.0   1.0   1.0   1.0   1.0   1.0   1.0   1.0   1.0   1.0   \n",
       "\n",
       "   2015  2016  2017  2018  2019  \n",
       "0   1.0   1.0   1.0   8.0   8.0  "
      ]
     },
     "execution_count": 5,
     "metadata": {},
     "output_type": "execute_result"
    }
   ],
   "source": [
    "df_disclosure.head(1)"
   ]
  },
  {
   "cell_type": "markdown",
   "metadata": {},
   "source": [
    "After reviewing the data\n",
    "Then it´s time to understand it to be able to clean it later. "
   ]
  },
  {
   "cell_type": "markdown",
   "metadata": {},
   "source": [
    "First, let´s understand it is columns, rows, dtype, non-null count."
   ]
  },
  {
   "cell_type": "code",
   "execution_count": 6,
   "metadata": {},
   "outputs": [
    {
     "name": "stdout",
     "output_type": "stream",
     "text": [
      "<class 'pandas.core.frame.DataFrame'>\n",
      "RangeIndex: 189 entries, 0 to 188\n",
      "Data columns (total 2 columns):\n",
      " #   Column   Non-Null Count  Dtype \n",
      "---  ------   --------------  ----- \n",
      " 0   country  189 non-null    object\n",
      " 1   2019     189 non-null    int64 \n",
      "dtypes: int64(1), object(1)\n",
      "memory usage: 3.1+ KB\n"
     ]
    }
   ],
   "source": [
    "df_ease.info()"
   ]
  },
  {
   "cell_type": "code",
   "execution_count": 7,
   "metadata": {},
   "outputs": [
    {
     "name": "stdout",
     "output_type": "stream",
     "text": [
      "<class 'pandas.core.frame.DataFrame'>\n",
      "RangeIndex: 190 entries, 0 to 189\n",
      "Data columns (total 18 columns):\n",
      " #   Column   Non-Null Count  Dtype  \n",
      "---  ------   --------------  -----  \n",
      " 0   country  190 non-null    object \n",
      " 1   2003     133 non-null    float64\n",
      " 2   2004     143 non-null    float64\n",
      " 3   2005     162 non-null    float64\n",
      " 4   2006     166 non-null    float64\n",
      " 5   2007     169 non-null    float64\n",
      " 6   2008     170 non-null    float64\n",
      " 7   2009     171 non-null    float64\n",
      " 8   2010     171 non-null    float64\n",
      " 9   2011     173 non-null    float64\n",
      " 10  2012     177 non-null    float64\n",
      " 11  2013     188 non-null    float64\n",
      " 12  2014     188 non-null    float64\n",
      " 13  2015     189 non-null    float64\n",
      " 14  2016     189 non-null    float64\n",
      " 15  2017     189 non-null    float64\n",
      " 16  2018     190 non-null    float64\n",
      " 17  2019     190 non-null    float64\n",
      "dtypes: float64(17), object(1)\n",
      "memory usage: 26.8+ KB\n"
     ]
    }
   ],
   "source": [
    "df_cost.info()"
   ]
  },
  {
   "cell_type": "code",
   "execution_count": 8,
   "metadata": {},
   "outputs": [
    {
     "name": "stdout",
     "output_type": "stream",
     "text": [
      "<class 'pandas.core.frame.DataFrame'>\n",
      "RangeIndex: 190 entries, 0 to 189\n",
      "Data columns (total 16 columns):\n",
      " #   Column   Non-Null Count  Dtype  \n",
      "---  ------   --------------  -----  \n",
      " 0   country  190 non-null    object \n",
      " 1   2005     189 non-null    float64\n",
      " 2   2006     189 non-null    float64\n",
      " 3   2007     189 non-null    float64\n",
      " 4   2008     189 non-null    float64\n",
      " 5   2009     189 non-null    float64\n",
      " 6   2010     189 non-null    float64\n",
      " 7   2011     189 non-null    float64\n",
      " 8   2012     189 non-null    float64\n",
      " 9   2013     189 non-null    float64\n",
      " 10  2014     189 non-null    float64\n",
      " 11  2015     189 non-null    float64\n",
      " 12  2016     189 non-null    float64\n",
      " 13  2017     189 non-null    float64\n",
      " 14  2018     190 non-null    float64\n",
      " 15  2019     190 non-null    float64\n",
      "dtypes: float64(15), object(1)\n",
      "memory usage: 23.9+ KB\n"
     ]
    }
   ],
   "source": [
    "df_disclosure.info()"
   ]
  },
  {
   "cell_type": "markdown",
   "metadata": {},
   "source": [
    "Second, each file data´s shape to know if i can merge them easily later."
   ]
  },
  {
   "cell_type": "code",
   "execution_count": 9,
   "metadata": {},
   "outputs": [
    {
     "data": {
      "text/plain": [
       "(189, 2)"
      ]
     },
     "execution_count": 9,
     "metadata": {},
     "output_type": "execute_result"
    }
   ],
   "source": [
    "df_ease.shape"
   ]
  },
  {
   "cell_type": "code",
   "execution_count": 10,
   "metadata": {},
   "outputs": [
    {
     "data": {
      "text/plain": [
       "(190, 18)"
      ]
     },
     "execution_count": 10,
     "metadata": {},
     "output_type": "execute_result"
    }
   ],
   "source": [
    "df_cost.shape"
   ]
  },
  {
   "cell_type": "code",
   "execution_count": 11,
   "metadata": {},
   "outputs": [
    {
     "data": {
      "text/plain": [
       "(190, 16)"
      ]
     },
     "execution_count": 11,
     "metadata": {},
     "output_type": "execute_result"
    }
   ],
   "source": [
    "df_disclosure.shape"
   ]
  },
  {
   "cell_type": "markdown",
   "metadata": {},
   "source": [
    "Finally, let´s comprehend the data values in details"
   ]
  },
  {
   "cell_type": "code",
   "execution_count": 12,
   "metadata": {},
   "outputs": [
    {
     "data": {
      "text/html": [
       "<div>\n",
       "<style scoped>\n",
       "    .dataframe tbody tr th:only-of-type {\n",
       "        vertical-align: middle;\n",
       "    }\n",
       "\n",
       "    .dataframe tbody tr th {\n",
       "        vertical-align: top;\n",
       "    }\n",
       "\n",
       "    .dataframe thead th {\n",
       "        text-align: right;\n",
       "    }\n",
       "</style>\n",
       "<table border=\"1\" class=\"dataframe\">\n",
       "  <thead>\n",
       "    <tr style=\"text-align: right;\">\n",
       "      <th></th>\n",
       "      <th>2019</th>\n",
       "    </tr>\n",
       "  </thead>\n",
       "  <tbody>\n",
       "    <tr>\n",
       "      <th>count</th>\n",
       "      <td>189.000000</td>\n",
       "    </tr>\n",
       "    <tr>\n",
       "      <th>mean</th>\n",
       "      <td>95.925926</td>\n",
       "    </tr>\n",
       "    <tr>\n",
       "      <th>std</th>\n",
       "      <td>54.823361</td>\n",
       "    </tr>\n",
       "    <tr>\n",
       "      <th>min</th>\n",
       "      <td>1.000000</td>\n",
       "    </tr>\n",
       "    <tr>\n",
       "      <th>25%</th>\n",
       "      <td>49.000000</td>\n",
       "    </tr>\n",
       "    <tr>\n",
       "      <th>50%</th>\n",
       "      <td>96.000000</td>\n",
       "    </tr>\n",
       "    <tr>\n",
       "      <th>75%</th>\n",
       "      <td>143.000000</td>\n",
       "    </tr>\n",
       "    <tr>\n",
       "      <th>max</th>\n",
       "      <td>190.000000</td>\n",
       "    </tr>\n",
       "  </tbody>\n",
       "</table>\n",
       "</div>"
      ],
      "text/plain": [
       "             2019\n",
       "count  189.000000\n",
       "mean    95.925926\n",
       "std     54.823361\n",
       "min      1.000000\n",
       "25%     49.000000\n",
       "50%     96.000000\n",
       "75%    143.000000\n",
       "max    190.000000"
      ]
     },
     "execution_count": 12,
     "metadata": {},
     "output_type": "execute_result"
    }
   ],
   "source": [
    "df_ease.describe()"
   ]
  },
  {
   "cell_type": "code",
   "execution_count": 13,
   "metadata": {
    "scrolled": true
   },
   "outputs": [
    {
     "data": {
      "text/html": [
       "<div>\n",
       "<style scoped>\n",
       "    .dataframe tbody tr th:only-of-type {\n",
       "        vertical-align: middle;\n",
       "    }\n",
       "\n",
       "    .dataframe tbody tr th {\n",
       "        vertical-align: top;\n",
       "    }\n",
       "\n",
       "    .dataframe thead th {\n",
       "        text-align: right;\n",
       "    }\n",
       "</style>\n",
       "<table border=\"1\" class=\"dataframe\">\n",
       "  <thead>\n",
       "    <tr style=\"text-align: right;\">\n",
       "      <th></th>\n",
       "      <th>2003</th>\n",
       "      <th>2004</th>\n",
       "      <th>2005</th>\n",
       "      <th>2006</th>\n",
       "      <th>2007</th>\n",
       "      <th>2008</th>\n",
       "      <th>2009</th>\n",
       "      <th>2010</th>\n",
       "      <th>2011</th>\n",
       "      <th>2012</th>\n",
       "      <th>2013</th>\n",
       "      <th>2014</th>\n",
       "      <th>2015</th>\n",
       "      <th>2016</th>\n",
       "      <th>2017</th>\n",
       "      <th>2018</th>\n",
       "      <th>2019</th>\n",
       "    </tr>\n",
       "  </thead>\n",
       "  <tbody>\n",
       "    <tr>\n",
       "      <th>count</th>\n",
       "      <td>133.000000</td>\n",
       "      <td>143.000000</td>\n",
       "      <td>162.000000</td>\n",
       "      <td>166.000000</td>\n",
       "      <td>169.000000</td>\n",
       "      <td>170.000000</td>\n",
       "      <td>171.000000</td>\n",
       "      <td>171.000000</td>\n",
       "      <td>173.000000</td>\n",
       "      <td>177.000000</td>\n",
       "      <td>188.000000</td>\n",
       "      <td>188.000000</td>\n",
       "      <td>189.000000</td>\n",
       "      <td>189.000000</td>\n",
       "      <td>189.000000</td>\n",
       "      <td>190.000000</td>\n",
       "      <td>190.000000</td>\n",
       "    </tr>\n",
       "    <tr>\n",
       "      <th>mean</th>\n",
       "      <td>105.638346</td>\n",
       "      <td>94.276224</td>\n",
       "      <td>85.119136</td>\n",
       "      <td>80.906024</td>\n",
       "      <td>71.554438</td>\n",
       "      <td>57.174706</td>\n",
       "      <td>47.420468</td>\n",
       "      <td>45.536257</td>\n",
       "      <td>40.395376</td>\n",
       "      <td>35.961017</td>\n",
       "      <td>33.001596</td>\n",
       "      <td>29.022872</td>\n",
       "      <td>28.283069</td>\n",
       "      <td>27.118519</td>\n",
       "      <td>26.573545</td>\n",
       "      <td>24.117895</td>\n",
       "      <td>19.868947</td>\n",
       "    </tr>\n",
       "    <tr>\n",
       "      <th>std</th>\n",
       "      <td>232.550260</td>\n",
       "      <td>193.407193</td>\n",
       "      <td>153.275439</td>\n",
       "      <td>157.328950</td>\n",
       "      <td>142.091679</td>\n",
       "      <td>105.260197</td>\n",
       "      <td>86.748769</td>\n",
       "      <td>76.883512</td>\n",
       "      <td>65.181678</td>\n",
       "      <td>51.846643</td>\n",
       "      <td>51.118293</td>\n",
       "      <td>43.264755</td>\n",
       "      <td>45.001480</td>\n",
       "      <td>47.208643</td>\n",
       "      <td>46.886533</td>\n",
       "      <td>44.227176</td>\n",
       "      <td>33.793070</td>\n",
       "    </tr>\n",
       "    <tr>\n",
       "      <th>min</th>\n",
       "      <td>0.000000</td>\n",
       "      <td>0.000000</td>\n",
       "      <td>0.000000</td>\n",
       "      <td>0.000000</td>\n",
       "      <td>0.000000</td>\n",
       "      <td>0.000000</td>\n",
       "      <td>0.000000</td>\n",
       "      <td>0.000000</td>\n",
       "      <td>0.000000</td>\n",
       "      <td>0.000000</td>\n",
       "      <td>0.000000</td>\n",
       "      <td>0.000000</td>\n",
       "      <td>0.000000</td>\n",
       "      <td>0.000000</td>\n",
       "      <td>0.000000</td>\n",
       "      <td>0.000000</td>\n",
       "      <td>0.000000</td>\n",
       "    </tr>\n",
       "    <tr>\n",
       "      <th>25%</th>\n",
       "      <td>11.900000</td>\n",
       "      <td>11.400000</td>\n",
       "      <td>11.550000</td>\n",
       "      <td>9.300000</td>\n",
       "      <td>8.300000</td>\n",
       "      <td>5.925000</td>\n",
       "      <td>5.150000</td>\n",
       "      <td>5.200000</td>\n",
       "      <td>4.700000</td>\n",
       "      <td>4.100000</td>\n",
       "      <td>3.800000</td>\n",
       "      <td>3.300000</td>\n",
       "      <td>3.300000</td>\n",
       "      <td>2.800000</td>\n",
       "      <td>2.300000</td>\n",
       "      <td>2.200000</td>\n",
       "      <td>2.125000</td>\n",
       "    </tr>\n",
       "    <tr>\n",
       "      <th>50%</th>\n",
       "      <td>28.000000</td>\n",
       "      <td>26.600000</td>\n",
       "      <td>28.750000</td>\n",
       "      <td>25.250000</td>\n",
       "      <td>21.800000</td>\n",
       "      <td>18.700000</td>\n",
       "      <td>16.300000</td>\n",
       "      <td>17.500000</td>\n",
       "      <td>16.400000</td>\n",
       "      <td>14.900000</td>\n",
       "      <td>13.300000</td>\n",
       "      <td>12.950000</td>\n",
       "      <td>12.200000</td>\n",
       "      <td>12.200000</td>\n",
       "      <td>10.400000</td>\n",
       "      <td>8.850000</td>\n",
       "      <td>7.750000</td>\n",
       "    </tr>\n",
       "    <tr>\n",
       "      <th>75%</th>\n",
       "      <td>112.000000</td>\n",
       "      <td>108.500000</td>\n",
       "      <td>106.550000</td>\n",
       "      <td>93.825000</td>\n",
       "      <td>74.700000</td>\n",
       "      <td>64.650000</td>\n",
       "      <td>53.550000</td>\n",
       "      <td>52.100000</td>\n",
       "      <td>47.700000</td>\n",
       "      <td>46.800000</td>\n",
       "      <td>42.150000</td>\n",
       "      <td>33.850000</td>\n",
       "      <td>33.000000</td>\n",
       "      <td>31.200000</td>\n",
       "      <td>29.200000</td>\n",
       "      <td>24.775000</td>\n",
       "      <td>22.125000</td>\n",
       "    </tr>\n",
       "    <tr>\n",
       "      <th>max</th>\n",
       "      <td>1540.000000</td>\n",
       "      <td>1490.000000</td>\n",
       "      <td>1190.000000</td>\n",
       "      <td>1310.000000</td>\n",
       "      <td>1180.000000</td>\n",
       "      <td>935.000000</td>\n",
       "      <td>848.000000</td>\n",
       "      <td>735.000000</td>\n",
       "      <td>551.000000</td>\n",
       "      <td>287.000000</td>\n",
       "      <td>372.000000</td>\n",
       "      <td>247.000000</td>\n",
       "      <td>330.000000</td>\n",
       "      <td>422.000000</td>\n",
       "      <td>352.000000</td>\n",
       "      <td>393.000000</td>\n",
       "      <td>212.000000</td>\n",
       "    </tr>\n",
       "  </tbody>\n",
       "</table>\n",
       "</div>"
      ],
      "text/plain": [
       "              2003         2004         2005         2006         2007  \\\n",
       "count   133.000000   143.000000   162.000000   166.000000   169.000000   \n",
       "mean    105.638346    94.276224    85.119136    80.906024    71.554438   \n",
       "std     232.550260   193.407193   153.275439   157.328950   142.091679   \n",
       "min       0.000000     0.000000     0.000000     0.000000     0.000000   \n",
       "25%      11.900000    11.400000    11.550000     9.300000     8.300000   \n",
       "50%      28.000000    26.600000    28.750000    25.250000    21.800000   \n",
       "75%     112.000000   108.500000   106.550000    93.825000    74.700000   \n",
       "max    1540.000000  1490.000000  1190.000000  1310.000000  1180.000000   \n",
       "\n",
       "             2008        2009        2010        2011        2012        2013  \\\n",
       "count  170.000000  171.000000  171.000000  173.000000  177.000000  188.000000   \n",
       "mean    57.174706   47.420468   45.536257   40.395376   35.961017   33.001596   \n",
       "std    105.260197   86.748769   76.883512   65.181678   51.846643   51.118293   \n",
       "min      0.000000    0.000000    0.000000    0.000000    0.000000    0.000000   \n",
       "25%      5.925000    5.150000    5.200000    4.700000    4.100000    3.800000   \n",
       "50%     18.700000   16.300000   17.500000   16.400000   14.900000   13.300000   \n",
       "75%     64.650000   53.550000   52.100000   47.700000   46.800000   42.150000   \n",
       "max    935.000000  848.000000  735.000000  551.000000  287.000000  372.000000   \n",
       "\n",
       "             2014        2015        2016        2017        2018        2019  \n",
       "count  188.000000  189.000000  189.000000  189.000000  190.000000  190.000000  \n",
       "mean    29.022872   28.283069   27.118519   26.573545   24.117895   19.868947  \n",
       "std     43.264755   45.001480   47.208643   46.886533   44.227176   33.793070  \n",
       "min      0.000000    0.000000    0.000000    0.000000    0.000000    0.000000  \n",
       "25%      3.300000    3.300000    2.800000    2.300000    2.200000    2.125000  \n",
       "50%     12.950000   12.200000   12.200000   10.400000    8.850000    7.750000  \n",
       "75%     33.850000   33.000000   31.200000   29.200000   24.775000   22.125000  \n",
       "max    247.000000  330.000000  422.000000  352.000000  393.000000  212.000000  "
      ]
     },
     "execution_count": 13,
     "metadata": {},
     "output_type": "execute_result"
    }
   ],
   "source": [
    "df_cost.describe()"
   ]
  },
  {
   "cell_type": "code",
   "execution_count": 14,
   "metadata": {},
   "outputs": [
    {
     "data": {
      "text/html": [
       "<div>\n",
       "<style scoped>\n",
       "    .dataframe tbody tr th:only-of-type {\n",
       "        vertical-align: middle;\n",
       "    }\n",
       "\n",
       "    .dataframe tbody tr th {\n",
       "        vertical-align: top;\n",
       "    }\n",
       "\n",
       "    .dataframe thead th {\n",
       "        text-align: right;\n",
       "    }\n",
       "</style>\n",
       "<table border=\"1\" class=\"dataframe\">\n",
       "  <thead>\n",
       "    <tr style=\"text-align: right;\">\n",
       "      <th></th>\n",
       "      <th>2005</th>\n",
       "      <th>2006</th>\n",
       "      <th>2007</th>\n",
       "      <th>2008</th>\n",
       "      <th>2009</th>\n",
       "      <th>2010</th>\n",
       "      <th>2011</th>\n",
       "      <th>2012</th>\n",
       "      <th>2013</th>\n",
       "      <th>2014</th>\n",
       "      <th>2015</th>\n",
       "      <th>2016</th>\n",
       "      <th>2017</th>\n",
       "      <th>2018</th>\n",
       "      <th>2019</th>\n",
       "    </tr>\n",
       "  </thead>\n",
       "  <tbody>\n",
       "    <tr>\n",
       "      <th>count</th>\n",
       "      <td>189.000000</td>\n",
       "      <td>189.000000</td>\n",
       "      <td>189.000000</td>\n",
       "      <td>189.000000</td>\n",
       "      <td>189.000000</td>\n",
       "      <td>189.000000</td>\n",
       "      <td>189.000000</td>\n",
       "      <td>189.000000</td>\n",
       "      <td>189.000000</td>\n",
       "      <td>189.000000</td>\n",
       "      <td>189.000000</td>\n",
       "      <td>189.000000</td>\n",
       "      <td>189.000000</td>\n",
       "      <td>190.000000</td>\n",
       "      <td>190.000000</td>\n",
       "    </tr>\n",
       "    <tr>\n",
       "      <th>mean</th>\n",
       "      <td>4.615873</td>\n",
       "      <td>4.658201</td>\n",
       "      <td>4.716402</td>\n",
       "      <td>4.801058</td>\n",
       "      <td>4.917460</td>\n",
       "      <td>4.970370</td>\n",
       "      <td>5.060317</td>\n",
       "      <td>5.166138</td>\n",
       "      <td>5.245503</td>\n",
       "      <td>5.435979</td>\n",
       "      <td>5.531217</td>\n",
       "      <td>5.594709</td>\n",
       "      <td>5.647619</td>\n",
       "      <td>5.723158</td>\n",
       "      <td>5.812632</td>\n",
       "    </tr>\n",
       "    <tr>\n",
       "      <th>std</th>\n",
       "      <td>2.510481</td>\n",
       "      <td>2.529275</td>\n",
       "      <td>2.524939</td>\n",
       "      <td>2.494973</td>\n",
       "      <td>2.454341</td>\n",
       "      <td>2.464206</td>\n",
       "      <td>2.496884</td>\n",
       "      <td>2.435927</td>\n",
       "      <td>2.436828</td>\n",
       "      <td>2.509382</td>\n",
       "      <td>2.518470</td>\n",
       "      <td>2.533724</td>\n",
       "      <td>2.535379</td>\n",
       "      <td>2.552515</td>\n",
       "      <td>2.559648</td>\n",
       "    </tr>\n",
       "    <tr>\n",
       "      <th>min</th>\n",
       "      <td>0.000000</td>\n",
       "      <td>0.000000</td>\n",
       "      <td>0.000000</td>\n",
       "      <td>0.000000</td>\n",
       "      <td>0.000000</td>\n",
       "      <td>0.000000</td>\n",
       "      <td>0.000000</td>\n",
       "      <td>0.000000</td>\n",
       "      <td>0.000000</td>\n",
       "      <td>0.000000</td>\n",
       "      <td>0.000000</td>\n",
       "      <td>0.000000</td>\n",
       "      <td>0.000000</td>\n",
       "      <td>0.000000</td>\n",
       "      <td>0.000000</td>\n",
       "    </tr>\n",
       "    <tr>\n",
       "      <th>25%</th>\n",
       "      <td>3.000000</td>\n",
       "      <td>3.000000</td>\n",
       "      <td>3.000000</td>\n",
       "      <td>3.000000</td>\n",
       "      <td>3.000000</td>\n",
       "      <td>3.000000</td>\n",
       "      <td>3.000000</td>\n",
       "      <td>3.000000</td>\n",
       "      <td>4.000000</td>\n",
       "      <td>4.000000</td>\n",
       "      <td>4.000000</td>\n",
       "      <td>4.000000</td>\n",
       "      <td>4.000000</td>\n",
       "      <td>4.000000</td>\n",
       "      <td>4.000000</td>\n",
       "    </tr>\n",
       "    <tr>\n",
       "      <th>50%</th>\n",
       "      <td>4.000000</td>\n",
       "      <td>4.000000</td>\n",
       "      <td>5.000000</td>\n",
       "      <td>5.000000</td>\n",
       "      <td>5.000000</td>\n",
       "      <td>5.000000</td>\n",
       "      <td>5.000000</td>\n",
       "      <td>5.000000</td>\n",
       "      <td>6.000000</td>\n",
       "      <td>6.000000</td>\n",
       "      <td>6.000000</td>\n",
       "      <td>6.000000</td>\n",
       "      <td>6.000000</td>\n",
       "      <td>6.000000</td>\n",
       "      <td>6.000000</td>\n",
       "    </tr>\n",
       "    <tr>\n",
       "      <th>75%</th>\n",
       "      <td>6.000000</td>\n",
       "      <td>6.000000</td>\n",
       "      <td>6.000000</td>\n",
       "      <td>6.000000</td>\n",
       "      <td>6.000000</td>\n",
       "      <td>7.000000</td>\n",
       "      <td>7.000000</td>\n",
       "      <td>7.000000</td>\n",
       "      <td>7.000000</td>\n",
       "      <td>7.000000</td>\n",
       "      <td>7.000000</td>\n",
       "      <td>7.000000</td>\n",
       "      <td>7.000000</td>\n",
       "      <td>7.850000</td>\n",
       "      <td>8.000000</td>\n",
       "    </tr>\n",
       "    <tr>\n",
       "      <th>max</th>\n",
       "      <td>10.000000</td>\n",
       "      <td>10.000000</td>\n",
       "      <td>10.000000</td>\n",
       "      <td>10.000000</td>\n",
       "      <td>10.000000</td>\n",
       "      <td>10.000000</td>\n",
       "      <td>10.000000</td>\n",
       "      <td>10.000000</td>\n",
       "      <td>10.000000</td>\n",
       "      <td>10.000000</td>\n",
       "      <td>10.000000</td>\n",
       "      <td>10.000000</td>\n",
       "      <td>10.000000</td>\n",
       "      <td>10.000000</td>\n",
       "      <td>10.000000</td>\n",
       "    </tr>\n",
       "  </tbody>\n",
       "</table>\n",
       "</div>"
      ],
      "text/plain": [
       "             2005        2006        2007        2008        2009        2010  \\\n",
       "count  189.000000  189.000000  189.000000  189.000000  189.000000  189.000000   \n",
       "mean     4.615873    4.658201    4.716402    4.801058    4.917460    4.970370   \n",
       "std      2.510481    2.529275    2.524939    2.494973    2.454341    2.464206   \n",
       "min      0.000000    0.000000    0.000000    0.000000    0.000000    0.000000   \n",
       "25%      3.000000    3.000000    3.000000    3.000000    3.000000    3.000000   \n",
       "50%      4.000000    4.000000    5.000000    5.000000    5.000000    5.000000   \n",
       "75%      6.000000    6.000000    6.000000    6.000000    6.000000    7.000000   \n",
       "max     10.000000   10.000000   10.000000   10.000000   10.000000   10.000000   \n",
       "\n",
       "             2011        2012        2013        2014        2015        2016  \\\n",
       "count  189.000000  189.000000  189.000000  189.000000  189.000000  189.000000   \n",
       "mean     5.060317    5.166138    5.245503    5.435979    5.531217    5.594709   \n",
       "std      2.496884    2.435927    2.436828    2.509382    2.518470    2.533724   \n",
       "min      0.000000    0.000000    0.000000    0.000000    0.000000    0.000000   \n",
       "25%      3.000000    3.000000    4.000000    4.000000    4.000000    4.000000   \n",
       "50%      5.000000    5.000000    6.000000    6.000000    6.000000    6.000000   \n",
       "75%      7.000000    7.000000    7.000000    7.000000    7.000000    7.000000   \n",
       "max     10.000000   10.000000   10.000000   10.000000   10.000000   10.000000   \n",
       "\n",
       "             2017        2018        2019  \n",
       "count  189.000000  190.000000  190.000000  \n",
       "mean     5.647619    5.723158    5.812632  \n",
       "std      2.535379    2.552515    2.559648  \n",
       "min      0.000000    0.000000    0.000000  \n",
       "25%      4.000000    4.000000    4.000000  \n",
       "50%      6.000000    6.000000    6.000000  \n",
       "75%      7.000000    7.850000    8.000000  \n",
       "max     10.000000   10.000000   10.000000  "
      ]
     },
     "execution_count": 14,
     "metadata": {},
     "output_type": "execute_result"
    }
   ],
   "source": [
    "df_disclosure.describe()"
   ]
  },
  {
   "cell_type": "markdown",
   "metadata": {},
   "source": [
    "### Cleaning the data\n",
    "> **next step**: after we have understood the data from the previous functions, it is time to clean our data:\n",
    ">\n",
    "> The ease data, i will check for NaN values, duplicates and rename the column of the precentage to ease indicator.\n",
    ">\n",
    "> The cost data, i will check for NaN values, duplicates, then drop all columns except 2019 only and rename it as ease indicator\n",
    ">\n",
    ">The diclosure data, i will check for NaN values, duplicates, then drop all columns except 2019 only and rename it as disclosure_ind\n",
    ">\n",
    "> Hence, I wll check the datatype to be able to merge the datasets into one edited combined dataset\n",
    ">\n",
    "> Finally, i will add the regions column to help answer the questions posed above, and to start the exploration.\n"
   ]
  },
  {
   "cell_type": "markdown",
   "metadata": {},
   "source": [
    "**Cleaning the firs file**"
   ]
  },
  {
   "cell_type": "code",
   "execution_count": 15,
   "metadata": {},
   "outputs": [
    {
     "data": {
      "text/plain": [
       "country    0\n",
       "2019       0\n",
       "dtype: int64"
      ]
     },
     "execution_count": 15,
     "metadata": {},
     "output_type": "execute_result"
    }
   ],
   "source": [
    "df_ease.isnull().sum()"
   ]
  },
  {
   "cell_type": "markdown",
   "metadata": {},
   "source": [
    "It is clear form the info we have seen above, anyway since it is zero, so there´s no null."
   ]
  },
  {
   "cell_type": "code",
   "execution_count": 16,
   "metadata": {},
   "outputs": [
    {
     "data": {
      "text/plain": [
       "0"
      ]
     },
     "execution_count": 16,
     "metadata": {},
     "output_type": "execute_result"
    }
   ],
   "source": [
    "sum(df_ease.duplicated())"
   ]
  },
  {
   "cell_type": "markdown",
   "metadata": {},
   "source": [
    "Since it is Zero, so there´s no duplicates-"
   ]
  },
  {
   "cell_type": "code",
   "execution_count": 17,
   "metadata": {
    "scrolled": true
   },
   "outputs": [
    {
     "data": {
      "text/html": [
       "<div>\n",
       "<style scoped>\n",
       "    .dataframe tbody tr th:only-of-type {\n",
       "        vertical-align: middle;\n",
       "    }\n",
       "\n",
       "    .dataframe tbody tr th {\n",
       "        vertical-align: top;\n",
       "    }\n",
       "\n",
       "    .dataframe thead th {\n",
       "        text-align: right;\n",
       "    }\n",
       "</style>\n",
       "<table border=\"1\" class=\"dataframe\">\n",
       "  <thead>\n",
       "    <tr style=\"text-align: right;\">\n",
       "      <th></th>\n",
       "      <th>country</th>\n",
       "      <th>ease_ind</th>\n",
       "    </tr>\n",
       "  </thead>\n",
       "  <tbody>\n",
       "    <tr>\n",
       "      <th>0</th>\n",
       "      <td>Afghanistan</td>\n",
       "      <td>173</td>\n",
       "    </tr>\n",
       "  </tbody>\n",
       "</table>\n",
       "</div>"
      ],
      "text/plain": [
       "       country  ease_ind\n",
       "0  Afghanistan       173"
      ]
     },
     "execution_count": 17,
     "metadata": {},
     "output_type": "execute_result"
    }
   ],
   "source": [
    "df_ease.rename(columns = {'2019':'ease_ind'}, inplace=True)\n",
    "df_ease.head(1)"
   ]
  },
  {
   "cell_type": "markdown",
   "metadata": {},
   "source": [
    "Renamed the column from 2019 to represent the values it has which are the ease of doing business indicators, that´s why i renamed \"ease_ind\".\n",
    "\n",
    "So when we added to the final table it will be ready."
   ]
  },
  {
   "cell_type": "code",
   "execution_count": 18,
   "metadata": {},
   "outputs": [
    {
     "data": {
      "text/plain": [
       "country     0\n",
       "2003       57\n",
       "2004       47\n",
       "2005       28\n",
       "2006       24\n",
       "2007       21\n",
       "2008       20\n",
       "2009       19\n",
       "2010       19\n",
       "2011       17\n",
       "2012       13\n",
       "2013        2\n",
       "2014        2\n",
       "2015        1\n",
       "2016        1\n",
       "2017        1\n",
       "2018        0\n",
       "2019        0\n",
       "dtype: int64"
      ]
     },
     "execution_count": 18,
     "metadata": {},
     "output_type": "execute_result"
    }
   ],
   "source": [
    "df_cost.isnull().sum()"
   ]
  },
  {
   "cell_type": "markdown",
   "metadata": {},
   "source": [
    "There´s a lot of mising values, but i will not do anything about it.\n",
    "\n",
    "Becasue the columns we are interested in are the country and 2019., and both has zero NaN."
   ]
  },
  {
   "cell_type": "code",
   "execution_count": 19,
   "metadata": {},
   "outputs": [
    {
     "data": {
      "text/plain": [
       "0"
      ]
     },
     "execution_count": 19,
     "metadata": {},
     "output_type": "execute_result"
    }
   ],
   "source": [
    "sum(df_cost.duplicated())"
   ]
  },
  {
   "cell_type": "markdown",
   "metadata": {},
   "source": [
    "Since it is Zero, so there´s no duplicates-"
   ]
  },
  {
   "cell_type": "code",
   "execution_count": 20,
   "metadata": {},
   "outputs": [
    {
     "name": "stderr",
     "output_type": "stream",
     "text": [
      "C:\\Users\\SHAYMA~1\\AppData\\Local\\Temp/ipykernel_22256/2365948362.py:2: FutureWarning: In a future version of pandas all arguments of DataFrame.drop except for the argument 'labels' will be keyword-only\n",
      "  df_cost.drop(df_cost.columns.difference(['country','2019']), 1, inplace= True)\n"
     ]
    },
    {
     "data": {
      "text/html": [
       "<div>\n",
       "<style scoped>\n",
       "    .dataframe tbody tr th:only-of-type {\n",
       "        vertical-align: middle;\n",
       "    }\n",
       "\n",
       "    .dataframe tbody tr th {\n",
       "        vertical-align: top;\n",
       "    }\n",
       "\n",
       "    .dataframe thead th {\n",
       "        text-align: right;\n",
       "    }\n",
       "</style>\n",
       "<table border=\"1\" class=\"dataframe\">\n",
       "  <thead>\n",
       "    <tr style=\"text-align: right;\">\n",
       "      <th></th>\n",
       "      <th>country</th>\n",
       "      <th>2019</th>\n",
       "    </tr>\n",
       "  </thead>\n",
       "  <tbody>\n",
       "    <tr>\n",
       "      <th>0</th>\n",
       "      <td>Afghanistan</td>\n",
       "      <td>6.8</td>\n",
       "    </tr>\n",
       "    <tr>\n",
       "      <th>1</th>\n",
       "      <td>Angola</td>\n",
       "      <td>11.1</td>\n",
       "    </tr>\n",
       "    <tr>\n",
       "      <th>2</th>\n",
       "      <td>Albania</td>\n",
       "      <td>10.8</td>\n",
       "    </tr>\n",
       "    <tr>\n",
       "      <th>3</th>\n",
       "      <td>United Arab Emirates</td>\n",
       "      <td>17.2</td>\n",
       "    </tr>\n",
       "    <tr>\n",
       "      <th>4</th>\n",
       "      <td>Argentina</td>\n",
       "      <td>5.0</td>\n",
       "    </tr>\n",
       "  </tbody>\n",
       "</table>\n",
       "</div>"
      ],
      "text/plain": [
       "                country  2019\n",
       "0           Afghanistan   6.8\n",
       "1                Angola  11.1\n",
       "2               Albania  10.8\n",
       "3  United Arab Emirates  17.2\n",
       "4             Argentina   5.0"
      ]
     },
     "execution_count": 20,
     "metadata": {},
     "output_type": "execute_result"
    }
   ],
   "source": [
    "#dropping all the columns except country and 2019\n",
    "df_cost.drop(df_cost.columns.difference(['country','2019']), 1, inplace= True)\n",
    "df_cost.head(5)"
   ]
  },
  {
   "cell_type": "markdown",
   "metadata": {},
   "source": [
    "Here, I have droped all not needed columns, to keep the ones we want only.\n",
    "Which are the country and the year 2019"
   ]
  },
  {
   "cell_type": "code",
   "execution_count": 21,
   "metadata": {},
   "outputs": [
    {
     "data": {
      "text/html": [
       "<div>\n",
       "<style scoped>\n",
       "    .dataframe tbody tr th:only-of-type {\n",
       "        vertical-align: middle;\n",
       "    }\n",
       "\n",
       "    .dataframe tbody tr th {\n",
       "        vertical-align: top;\n",
       "    }\n",
       "\n",
       "    .dataframe thead th {\n",
       "        text-align: right;\n",
       "    }\n",
       "</style>\n",
       "<table border=\"1\" class=\"dataframe\">\n",
       "  <thead>\n",
       "    <tr style=\"text-align: right;\">\n",
       "      <th></th>\n",
       "      <th>country</th>\n",
       "      <th>cost_ind</th>\n",
       "    </tr>\n",
       "  </thead>\n",
       "  <tbody>\n",
       "    <tr>\n",
       "      <th>0</th>\n",
       "      <td>Afghanistan</td>\n",
       "      <td>6.8</td>\n",
       "    </tr>\n",
       "  </tbody>\n",
       "</table>\n",
       "</div>"
      ],
      "text/plain": [
       "       country  cost_ind\n",
       "0  Afghanistan       6.8"
      ]
     },
     "execution_count": 21,
     "metadata": {},
     "output_type": "execute_result"
    }
   ],
   "source": [
    "df_cost.rename(columns = {'2019':'cost_ind'}, inplace=True)\n",
    "df_cost.head(1)"
   ]
  },
  {
   "cell_type": "markdown",
   "metadata": {},
   "source": [
    "Renamed the column from 2019 to represent the values it has which are the cost of precedures to startup business indicators, that´s why i renamed \"cost_ind\".\n",
    "\n",
    "So when we added to the final table it will be ready."
   ]
  },
  {
   "cell_type": "code",
   "execution_count": 22,
   "metadata": {},
   "outputs": [
    {
     "data": {
      "text/plain": [
       "country    0\n",
       "2005       1\n",
       "2006       1\n",
       "2007       1\n",
       "2008       1\n",
       "2009       1\n",
       "2010       1\n",
       "2011       1\n",
       "2012       1\n",
       "2013       1\n",
       "2014       1\n",
       "2015       1\n",
       "2016       1\n",
       "2017       1\n",
       "2018       0\n",
       "2019       0\n",
       "dtype: int64"
      ]
     },
     "execution_count": 22,
     "metadata": {},
     "output_type": "execute_result"
    }
   ],
   "source": [
    "df_disclosure.isnull().sum()"
   ]
  },
  {
   "cell_type": "markdown",
   "metadata": {},
   "source": [
    "There´s a lot of mising values, but i will not do anything about it.\n",
    "\n",
    "Becasue the columns we are interested in are the country and 2019., and both has zero NaN."
   ]
  },
  {
   "cell_type": "code",
   "execution_count": 23,
   "metadata": {},
   "outputs": [
    {
     "data": {
      "text/plain": [
       "0"
      ]
     },
     "execution_count": 23,
     "metadata": {},
     "output_type": "execute_result"
    }
   ],
   "source": [
    "sum(df_disclosure.duplicated())"
   ]
  },
  {
   "cell_type": "markdown",
   "metadata": {},
   "source": [
    "Since it is Zero, so there´s no duplicates-"
   ]
  },
  {
   "cell_type": "code",
   "execution_count": 24,
   "metadata": {},
   "outputs": [
    {
     "name": "stderr",
     "output_type": "stream",
     "text": [
      "C:\\Users\\SHAYMA~1\\AppData\\Local\\Temp/ipykernel_22256/2605669862.py:1: FutureWarning: In a future version of pandas all arguments of DataFrame.drop except for the argument 'labels' will be keyword-only\n",
      "  df_disclosure.drop(df_disclosure.columns.difference(['country','2019']), 1, inplace= True)\n"
     ]
    },
    {
     "data": {
      "text/html": [
       "<div>\n",
       "<style scoped>\n",
       "    .dataframe tbody tr th:only-of-type {\n",
       "        vertical-align: middle;\n",
       "    }\n",
       "\n",
       "    .dataframe tbody tr th {\n",
       "        vertical-align: top;\n",
       "    }\n",
       "\n",
       "    .dataframe thead th {\n",
       "        text-align: right;\n",
       "    }\n",
       "</style>\n",
       "<table border=\"1\" class=\"dataframe\">\n",
       "  <thead>\n",
       "    <tr style=\"text-align: right;\">\n",
       "      <th></th>\n",
       "      <th>country</th>\n",
       "      <th>2019</th>\n",
       "    </tr>\n",
       "  </thead>\n",
       "  <tbody>\n",
       "    <tr>\n",
       "      <th>0</th>\n",
       "      <td>Afghanistan</td>\n",
       "      <td>8.0</td>\n",
       "    </tr>\n",
       "    <tr>\n",
       "      <th>1</th>\n",
       "      <td>Angola</td>\n",
       "      <td>4.0</td>\n",
       "    </tr>\n",
       "    <tr>\n",
       "      <th>2</th>\n",
       "      <td>Albania</td>\n",
       "      <td>9.0</td>\n",
       "    </tr>\n",
       "    <tr>\n",
       "      <th>3</th>\n",
       "      <td>United Arab Emirates</td>\n",
       "      <td>10.0</td>\n",
       "    </tr>\n",
       "    <tr>\n",
       "      <th>4</th>\n",
       "      <td>Argentina</td>\n",
       "      <td>7.0</td>\n",
       "    </tr>\n",
       "  </tbody>\n",
       "</table>\n",
       "</div>"
      ],
      "text/plain": [
       "                country  2019\n",
       "0           Afghanistan   8.0\n",
       "1                Angola   4.0\n",
       "2               Albania   9.0\n",
       "3  United Arab Emirates  10.0\n",
       "4             Argentina   7.0"
      ]
     },
     "execution_count": 24,
     "metadata": {},
     "output_type": "execute_result"
    }
   ],
   "source": [
    "df_disclosure.drop(df_disclosure.columns.difference(['country','2019']), 1, inplace= True)\n",
    "df_disclosure.head()"
   ]
  },
  {
   "cell_type": "markdown",
   "metadata": {},
   "source": [
    "Here, I have droped all not needed columns, to keep the ones we want only.\n",
    "Which are the country and the year 2019"
   ]
  },
  {
   "cell_type": "code",
   "execution_count": 25,
   "metadata": {},
   "outputs": [
    {
     "data": {
      "text/html": [
       "<div>\n",
       "<style scoped>\n",
       "    .dataframe tbody tr th:only-of-type {\n",
       "        vertical-align: middle;\n",
       "    }\n",
       "\n",
       "    .dataframe tbody tr th {\n",
       "        vertical-align: top;\n",
       "    }\n",
       "\n",
       "    .dataframe thead th {\n",
       "        text-align: right;\n",
       "    }\n",
       "</style>\n",
       "<table border=\"1\" class=\"dataframe\">\n",
       "  <thead>\n",
       "    <tr style=\"text-align: right;\">\n",
       "      <th></th>\n",
       "      <th>country</th>\n",
       "      <th>disclosure_ind</th>\n",
       "    </tr>\n",
       "  </thead>\n",
       "  <tbody>\n",
       "    <tr>\n",
       "      <th>0</th>\n",
       "      <td>Afghanistan</td>\n",
       "      <td>8.0</td>\n",
       "    </tr>\n",
       "  </tbody>\n",
       "</table>\n",
       "</div>"
      ],
      "text/plain": [
       "       country  disclosure_ind\n",
       "0  Afghanistan             8.0"
      ]
     },
     "execution_count": 25,
     "metadata": {},
     "output_type": "execute_result"
    }
   ],
   "source": [
    "df_disclosure.rename(columns = {'2019':'disclosure_ind'}, inplace=True)\n",
    "df_disclosure.head(1)"
   ]
  },
  {
   "cell_type": "markdown",
   "metadata": {},
   "source": [
    "Renamed the column from 2019 to represent the values it has which are the entent of disclosure indicators, that´s why i renamed \"disclosure_ind\".\n",
    "\n",
    "So when we added to the final table it will be ready."
   ]
  },
  {
   "cell_type": "code",
   "execution_count": 26,
   "metadata": {},
   "outputs": [],
   "source": [
    "df_combined = df_ease.merge(df_cost, left_on ='country', right_on='country', how=\"outer\")"
   ]
  },
  {
   "cell_type": "markdown",
   "metadata": {},
   "source": [
    "Time to merge them!\n",
    "\n",
    "we started with merging the first two tables into one table as this one shown below!"
   ]
  },
  {
   "cell_type": "code",
   "execution_count": 27,
   "metadata": {},
   "outputs": [
    {
     "data": {
      "text/html": [
       "<div>\n",
       "<style scoped>\n",
       "    .dataframe tbody tr th:only-of-type {\n",
       "        vertical-align: middle;\n",
       "    }\n",
       "\n",
       "    .dataframe tbody tr th {\n",
       "        vertical-align: top;\n",
       "    }\n",
       "\n",
       "    .dataframe thead th {\n",
       "        text-align: right;\n",
       "    }\n",
       "</style>\n",
       "<table border=\"1\" class=\"dataframe\">\n",
       "  <thead>\n",
       "    <tr style=\"text-align: right;\">\n",
       "      <th></th>\n",
       "      <th>country</th>\n",
       "      <th>ease_ind</th>\n",
       "      <th>cost_ind</th>\n",
       "    </tr>\n",
       "  </thead>\n",
       "  <tbody>\n",
       "    <tr>\n",
       "      <th>0</th>\n",
       "      <td>Afghanistan</td>\n",
       "      <td>173.0</td>\n",
       "      <td>6.8</td>\n",
       "    </tr>\n",
       "  </tbody>\n",
       "</table>\n",
       "</div>"
      ],
      "text/plain": [
       "       country  ease_ind  cost_ind\n",
       "0  Afghanistan     173.0       6.8"
      ]
     },
     "execution_count": 27,
     "metadata": {},
     "output_type": "execute_result"
    }
   ],
   "source": [
    "df_combined.head(1)"
   ]
  },
  {
   "cell_type": "markdown",
   "metadata": {},
   "source": [
    "It is time to add the third table with the same way!"
   ]
  },
  {
   "cell_type": "code",
   "execution_count": 28,
   "metadata": {},
   "outputs": [
    {
     "data": {
      "text/html": [
       "<div>\n",
       "<style scoped>\n",
       "    .dataframe tbody tr th:only-of-type {\n",
       "        vertical-align: middle;\n",
       "    }\n",
       "\n",
       "    .dataframe tbody tr th {\n",
       "        vertical-align: top;\n",
       "    }\n",
       "\n",
       "    .dataframe thead th {\n",
       "        text-align: right;\n",
       "    }\n",
       "</style>\n",
       "<table border=\"1\" class=\"dataframe\">\n",
       "  <thead>\n",
       "    <tr style=\"text-align: right;\">\n",
       "      <th></th>\n",
       "      <th>country</th>\n",
       "      <th>ease_ind</th>\n",
       "      <th>cost_ind</th>\n",
       "      <th>disclosure_ind</th>\n",
       "    </tr>\n",
       "  </thead>\n",
       "  <tbody>\n",
       "    <tr>\n",
       "      <th>0</th>\n",
       "      <td>Afghanistan</td>\n",
       "      <td>173.0</td>\n",
       "      <td>6.8</td>\n",
       "      <td>8.0</td>\n",
       "    </tr>\n",
       "  </tbody>\n",
       "</table>\n",
       "</div>"
      ],
      "text/plain": [
       "       country  ease_ind  cost_ind  disclosure_ind\n",
       "0  Afghanistan     173.0       6.8             8.0"
      ]
     },
     "execution_count": 28,
     "metadata": {},
     "output_type": "execute_result"
    }
   ],
   "source": [
    "df_combined_2 = df_combined.merge(df_disclosure, left_on ='country', right_on='country', how=\"outer\")\n",
    "df_combined_2.head(1)"
   ]
  },
  {
   "cell_type": "markdown",
   "metadata": {},
   "source": [
    "The final dataset, we wanto is ready.\n",
    "But it needs some shaping, as one of the tables was 189 rows only while the other two are 190, that was clear when we use \".shape\", to know the data better!.\n",
    "\n",
    "So let´s check for NaNs."
   ]
  },
  {
   "cell_type": "code",
   "execution_count": 29,
   "metadata": {},
   "outputs": [
    {
     "data": {
      "text/plain": [
       "country           0\n",
       "ease_ind          1\n",
       "cost_ind          0\n",
       "disclosure_ind    0\n",
       "dtype: int64"
      ]
     },
     "execution_count": 29,
     "metadata": {},
     "output_type": "execute_result"
    }
   ],
   "source": [
    "df_combined_2.isnull().sum()"
   ]
  },
  {
   "cell_type": "markdown",
   "metadata": {},
   "source": [
    "\"ease_ind\" has a missing value, that can be droped or filled!\n",
    "For the sake of not losing one of the listed countries, it is better to fill it.\n",
    "\n",
    "Since it is an index value that represent a certain score from 1 to 190, it is better to get the mean and fill the missing value with the mean of the column.\n",
    "\n",
    "As the other ways will be randomly giving a number that´s not related at all, as this value is not related with the other values, so it is better to get the average value of the column and fill it with it."
   ]
  },
  {
   "cell_type": "code",
   "execution_count": 30,
   "metadata": {},
   "outputs": [
    {
     "data": {
      "text/plain": [
       "95.92592592592592"
      ]
     },
     "execution_count": 30,
     "metadata": {},
     "output_type": "execute_result"
    }
   ],
   "source": [
    "mean = df_combined_2['ease_ind'].mean()\n",
    "mean"
   ]
  },
  {
   "cell_type": "code",
   "execution_count": 31,
   "metadata": {},
   "outputs": [],
   "source": [
    "df_combined_2['ease_ind'] = df_combined_2['ease_ind'].fillna(mean)"
   ]
  },
  {
   "cell_type": "markdown",
   "metadata": {},
   "source": [
    "The missing value is filled with the mean, to prove that let´s check for NaNs once more."
   ]
  },
  {
   "cell_type": "code",
   "execution_count": 32,
   "metadata": {},
   "outputs": [
    {
     "data": {
      "text/plain": [
       "country           0\n",
       "ease_ind          0\n",
       "cost_ind          0\n",
       "disclosure_ind    0\n",
       "dtype: int64"
      ]
     },
     "execution_count": 32,
     "metadata": {},
     "output_type": "execute_result"
    }
   ],
   "source": [
    "df_combined_2.isnull().sum()"
   ]
  },
  {
   "cell_type": "markdown",
   "metadata": {},
   "source": [
    "Now, we are sure that There´s no NaNs.\n",
    "\n",
    "Since we know form the above -info for each that the datatypes has no problem with, that´s why the tables were merged successfully and there´s no duplication.\n",
    "\n",
    "It is time to save the new dataset."
   ]
  },
  {
   "cell_type": "code",
   "execution_count": 33,
   "metadata": {},
   "outputs": [],
   "source": [
    "df_combined_2.to_csv('business statistics.csv', index=False)"
   ]
  },
  {
   "cell_type": "markdown",
   "metadata": {},
   "source": [
    "<a id='eda'></a>\n",
    "## Exploratory Data Analysis\n",
    "\n",
    "> **Tip**: Now that you've trimmed and cleaned your data, you're ready to move on to exploration. Compute statistics and create visualizations with the goal of addressing the research questions that you posed in the Introduction section. It is recommended that you be systematic with your approach. Look at one variable at a time, and then follow it up by looking at relationships between variables.\n",
    "\n",
    "### Visualize and explore data"
   ]
  },
  {
   "cell_type": "markdown",
   "metadata": {},
   "source": [
    "At first we will load the edited file to start manipulating the data."
   ]
  },
  {
   "cell_type": "code",
   "execution_count": 34,
   "metadata": {},
   "outputs": [],
   "source": [
    "df = pd.read_csv('business statistics.csv')"
   ]
  },
  {
   "cell_type": "code",
   "execution_count": 35,
   "metadata": {},
   "outputs": [
    {
     "data": {
      "text/html": [
       "<div>\n",
       "<style scoped>\n",
       "    .dataframe tbody tr th:only-of-type {\n",
       "        vertical-align: middle;\n",
       "    }\n",
       "\n",
       "    .dataframe tbody tr th {\n",
       "        vertical-align: top;\n",
       "    }\n",
       "\n",
       "    .dataframe thead th {\n",
       "        text-align: right;\n",
       "    }\n",
       "</style>\n",
       "<table border=\"1\" class=\"dataframe\">\n",
       "  <thead>\n",
       "    <tr style=\"text-align: right;\">\n",
       "      <th></th>\n",
       "      <th>country</th>\n",
       "      <th>ease_ind</th>\n",
       "      <th>cost_ind</th>\n",
       "      <th>disclosure_ind</th>\n",
       "    </tr>\n",
       "  </thead>\n",
       "  <tbody>\n",
       "    <tr>\n",
       "      <th>0</th>\n",
       "      <td>Afghanistan</td>\n",
       "      <td>173.0</td>\n",
       "      <td>6.8</td>\n",
       "      <td>8.0</td>\n",
       "    </tr>\n",
       "  </tbody>\n",
       "</table>\n",
       "</div>"
      ],
      "text/plain": [
       "       country  ease_ind  cost_ind  disclosure_ind\n",
       "0  Afghanistan     173.0       6.8             8.0"
      ]
     },
     "execution_count": 35,
     "metadata": {},
     "output_type": "execute_result"
    }
   ],
   "source": [
    "df.head(1)"
   ]
  },
  {
   "cell_type": "markdown",
   "metadata": {},
   "source": [
    "To decipt the distributio of the continous features of each numerical values´ columns in the dataset, here´s histogram for each column."
   ]
  },
  {
   "cell_type": "code",
   "execution_count": 36,
   "metadata": {
    "scrolled": true
   },
   "outputs": [
    {
     "data": {
      "image/png": "[encoded data removed]",
      "text/plain": [
       "<Figure size 576x576 with 4 Axes>"
      ]
     },
     "metadata": {
      "needs_background": "light"
     },
     "output_type": "display_data"
    }
   ],
   "source": [
    "df.hist(figsize = (8, 8));"
   ]
  },
  {
   "cell_type": "markdown",
   "metadata": {},
   "source": [
    "it is clear that ease indicator is just normal distrubuted.\n",
    "However, the cost indicator is Right skewed while disclosure is left skewed.\n",
    "it will be useful to see the correlation between this relationships and know which if them has positive impact on each other using scatter plot."
   ]
  },
  {
   "cell_type": "code",
   "execution_count": 37,
   "metadata": {
    "scrolled": true
   },
   "outputs": [
    {
     "data": {
      "image/png": "[encoded data removed]",
      "text/plain": [
       "<Figure size 432x288 with 1 Axes>"
      ]
     },
     "metadata": {
      "needs_background": "light"
     },
     "output_type": "display_data"
    }
   ],
   "source": [
    "plot_1 = df.plot(x='ease_ind', y='disclosure_ind', kind='scatter', s= 12, alpha= 0.7);\n",
    "plt.title(\"Disclosure and ease relattionship\");"
   ]
  },
  {
   "cell_type": "markdown",
   "metadata": {},
   "source": [
    "the relations is weak or negative, which indicates that whether thte country´s procedures are easy or not, this doesn´t affect the disclosure strongly."
   ]
  },
  {
   "cell_type": "code",
   "execution_count": 38,
   "metadata": {},
   "outputs": [
    {
     "data": {
      "image/png": "[encoded data removed]",
      "text/plain": [
       "<Figure size 432x288 with 1 Axes>"
      ]
     },
     "metadata": {
      "needs_background": "light"
     },
     "output_type": "display_data"
    }
   ],
   "source": [
    "df.plot(x='cost_ind', y='disclosure_ind', kind='scatter', s= 12, alpha= 0.7);\n",
    "plt.title(\"Disclosure and cost relattionship\");"
   ]
  },
  {
   "cell_type": "markdown",
   "metadata": {},
   "source": [
    "the distribution is normal, which mean there´s no impact between cost and disclosure."
   ]
  },
  {
   "cell_type": "code",
   "execution_count": 39,
   "metadata": {
    "scrolled": true
   },
   "outputs": [
    {
     "data": {
      "image/png": "[encoded data removed]",
      "text/plain": [
       "<Figure size 432x288 with 1 Axes>"
      ]
     },
     "metadata": {
      "needs_background": "light"
     },
     "output_type": "display_data"
    }
   ],
   "source": [
    "df.plot(x='cost_ind', y='ease_ind', kind='scatter', s= 12, alpha= 0.7);\n",
    "plt.title(\"Cost and Ease relattionship\");"
   ]
  },
  {
   "cell_type": "markdown",
   "metadata": {},
   "source": [
    "It seems like thers´s strong or postive relationship between the cost indicator and the ease indicator. which mean they have impact on each other"
   ]
  },
  {
   "cell_type": "markdown",
   "metadata": {},
   "source": [
    "Since we have visualised and explored the data, now it is clear, how i would approach the questions to draw conclusions.\n",
    "I will focus on the relationship between cost adn ease, as it will help us answer the first question.\n",
    "While in the second question we will show the values of disclosure regardless its relations with other variable as it won´t be useful."
   ]
  },
  {
   "cell_type": "markdown",
   "metadata": {},
   "source": [
    "### Answering the questions"
   ]
  },
  {
   "cell_type": "markdown",
   "metadata": {
    "collapsed": true
   },
   "source": [
    "### Research Question 1: is the countires with high ease index has low precedures cost?"
   ]
  },
  {
   "cell_type": "markdown",
   "metadata": {},
   "source": [
    "It is already explained in the introduction how important this question. As it will help us highlight the relationshiop and make decision making process much easier."
   ]
  },
  {
   "cell_type": "code",
   "execution_count": 40,
   "metadata": {},
   "outputs": [],
   "source": [
    "ease_median = df['ease_ind'].median()\n",
    "high = df.query('ease_ind < {}'.format(ease_median))\n",
    "low = df.query('ease_ind >= {}'.format(ease_median))\n",
    "\n",
    "mean_cost_high = high['cost_ind'].mean()\n",
    "mean_cost_low = low['cost_ind'].mean()"
   ]
  },
  {
   "cell_type": "code",
   "execution_count": 41,
   "metadata": {
    "scrolled": true
   },
   "outputs": [
    {
     "data": {
      "text/plain": [
       "Text(0, 0.5, 'Average costs')"
      ]
     },
     "execution_count": 41,
     "metadata": {},
     "output_type": "execute_result"
    },
    {
     "data": {
      "image/png": "[encoded data removed]",
      "text/plain": [
       "<Figure size 432x288 with 1 Axes>"
      ]
     },
     "metadata": {
      "needs_background": "light"
     },
     "output_type": "display_data"
    }
   ],
   "source": [
    "locations = [1, 2]\n",
    "heights = [mean_cost_high, mean_cost_low]\n",
    "labels = ['high', 'low']\n",
    "plt.bar(locations, heights, tick_label=labels)\n",
    "plt.title('Average costs by ease')\n",
    "plt.xlabel('Ease indicator')\n",
    "plt.ylabel('Average costs')"
   ]
  },
  {
   "cell_type": "markdown",
   "metadata": {},
   "source": [
    "using query to get the mean of high and low values of cost in relation to the ease.\n",
    "\n",
    "I simply got the median/middle value in the values of ease. \n",
    "And made sure that whatevr is less than that median (closer to 1 which is the most friendly) is considered high ease index, while what is greater than the median is low ease index.\n",
    "\n",
    "The mean of cost indicator in relative to high is calculated then the mean of cost in relative to low ease index also calculated, to be used in the graph to be able to compare between high and low according to the average cost.\n"
   ]
  },
  {
   "cell_type": "markdown",
   "metadata": {},
   "source": [
    "As shown above, the graph indicates that countries with high ease indicators are much lesser in cost with 30!\n",
    "It means that high countries that are most friendly to do your business, have lower average costs of nearly 5, unlike low which has about 35 average cost.\n",
    "\n",
    "Shockingly, the average cost in the low ease countries is seven times higher than that in high ease countries. \n",
    "\n",
    "So the answer is **yes**, the countires with high ease index has low precedures cost.\n",
    "It is time to find this countries to make the decision."
   ]
  },
  {
   "cell_type": "markdown",
   "metadata": {},
   "source": [
    "### Research Question 2  Identify top 5 countires with lowest cost precedures, and top 5 countires with with highest ease of doing business procedures? then the top in both together with mentioning their disclosure index?"
   ]
  },
  {
   "cell_type": "markdown",
   "metadata": {},
   "source": [
    "In the first question, we got the numbers, here in this question now we have to get the answer to the enterpreneur confusion to make the decision, which is the name of the countries with preferables features, that we have decided on from the previous analysis.\n",
    "\n",
    "the first preferable feature is the lowest ease_ind, which in fact the coutries with lower ease_ind, that is closer to 1.\n",
    "Here, we will get the top five countries for it.\n",
    "\n",
    "the second preferable feature is the lowest cost_ind, which is the lower the cost the better for the enterpreneur.\n",
    "\n",
    "the third preferable feature is the disclosure, which is the closer to 10 the better, as it means higher extent of disclosure."
   ]
  },
  {
   "cell_type": "code",
   "execution_count": 42,
   "metadata": {},
   "outputs": [],
   "source": [
    "def visualise_it (df):\n",
    "    z = df.plot(x='country', kind='bar');\n",
    "    print(z)"
   ]
  },
  {
   "cell_type": "markdown",
   "metadata": {},
   "source": [
    "Since the following data is all about the data, so i prefered to have a function to visualise it as bar chart, so the user could decide which country to choose just by looking at the bar chart."
   ]
  },
  {
   "cell_type": "code",
   "execution_count": 43,
   "metadata": {},
   "outputs": [
    {
     "name": "stdout",
     "output_type": "stream",
     "text": [
      "AxesSubplot(0.125,0.125;0.775x0.755)\n"
     ]
    },
    {
     "data": {
      "text/html": [
       "<div>\n",
       "<style scoped>\n",
       "    .dataframe tbody tr th:only-of-type {\n",
       "        vertical-align: middle;\n",
       "    }\n",
       "\n",
       "    .dataframe tbody tr th {\n",
       "        vertical-align: top;\n",
       "    }\n",
       "\n",
       "    .dataframe thead th {\n",
       "        text-align: right;\n",
       "    }\n",
       "</style>\n",
       "<table border=\"1\" class=\"dataframe\">\n",
       "  <thead>\n",
       "    <tr style=\"text-align: right;\">\n",
       "      <th></th>\n",
       "      <th>country</th>\n",
       "      <th>ease_ind</th>\n",
       "      <th>cost_ind</th>\n",
       "      <th>disclosure_ind</th>\n",
       "    </tr>\n",
       "  </thead>\n",
       "  <tbody>\n",
       "    <tr>\n",
       "      <th>129</th>\n",
       "      <td>New Zealand</td>\n",
       "      <td>1.0</td>\n",
       "      <td>0.2</td>\n",
       "      <td>10.0</td>\n",
       "    </tr>\n",
       "    <tr>\n",
       "      <th>149</th>\n",
       "      <td>Singapore</td>\n",
       "      <td>2.0</td>\n",
       "      <td>0.4</td>\n",
       "      <td>10.0</td>\n",
       "    </tr>\n",
       "    <tr>\n",
       "      <th>70</th>\n",
       "      <td>Hong Kong, China</td>\n",
       "      <td>3.0</td>\n",
       "      <td>0.5</td>\n",
       "      <td>10.0</td>\n",
       "    </tr>\n",
       "    <tr>\n",
       "      <th>45</th>\n",
       "      <td>Denmark</td>\n",
       "      <td>4.0</td>\n",
       "      <td>0.2</td>\n",
       "      <td>7.0</td>\n",
       "    </tr>\n",
       "    <tr>\n",
       "      <th>92</th>\n",
       "      <td>South Korea</td>\n",
       "      <td>5.0</td>\n",
       "      <td>14.6</td>\n",
       "      <td>8.0</td>\n",
       "    </tr>\n",
       "  </tbody>\n",
       "</table>\n",
       "</div>"
      ],
      "text/plain": [
       "              country  ease_ind  cost_ind  disclosure_ind\n",
       "129       New Zealand       1.0       0.2            10.0\n",
       "149         Singapore       2.0       0.4            10.0\n",
       "70   Hong Kong, China       3.0       0.5            10.0\n",
       "45            Denmark       4.0       0.2             7.0\n",
       "92        South Korea       5.0      14.6             8.0"
      ]
     },
     "execution_count": 43,
     "metadata": {},
     "output_type": "execute_result"
    },
    {
     "data": {
      "image/png": "[encoded data removed]",
      "text/plain": [
       "<Figure size 432x288 with 1 Axes>"
      ]
     },
     "metadata": {
      "needs_background": "light"
     },
     "output_type": "display_data"
    }
   ],
   "source": [
    "top_5_ease =  df.sort_values(by= ['ease_ind'])[:5]\n",
    "visualise_it (top_5_ease)\n",
    "top_5_ease"
   ]
  },
  {
   "cell_type": "markdown",
   "metadata": {},
   "source": [
    "I have sorted the data in ascending order according to the ease_ind and get the top five rows that represent this information.\n",
    "\n",
    "As we have said that the closer to 1 is the preferable value.\n",
    "\n",
    "So the top five countries according to ease_ind is the ones mentioned above.\n",
    "This way is more informative, as if the enterpreneur prefere the countries with ease index and want to ignore the other features, the answer is presented here, and even include the other features value according to his preference.\n",
    "\n",
    "And this is the answer for the first part of the question above."
   ]
  },
  {
   "cell_type": "markdown",
   "metadata": {},
   "source": [
    "The output here is more readable as it is the table and the bar chart next to it, so it is easier to spot and compare between the five countries and analyse it quickly, and not just depend the sorting of it.\n",
    "\n",
    "Here, i easily say New zealand is the one with best ease_ind and from the lowest cost in the data above.\n",
    "whther by comparing the numbers from the table.\n",
    "Or easily analyse the bar chart.\n",
    "\n",
    "Remember that, both ease and cost indicators are better less, while disclosure the higher the better.\n",
    "\n",
    "Analysing the chart: i know that i want the lowest value in ease_ind which is New Zealand, then i will check the cost and find that both New Zealand and denmark has lowest cost, finally i will check the disclosure and the first three countries are the highest, from comparing the data. \n",
    "\n",
    "we conclude that New Zealand is the best option from the five top considering all the features."
   ]
  },
  {
   "cell_type": "code",
   "execution_count": 44,
   "metadata": {},
   "outputs": [
    {
     "name": "stdout",
     "output_type": "stream",
     "text": [
      "AxesSubplot(0.125,0.125;0.775x0.755)\n"
     ]
    },
    {
     "data": {
      "text/html": [
       "<div>\n",
       "<style scoped>\n",
       "    .dataframe tbody tr th:only-of-type {\n",
       "        vertical-align: middle;\n",
       "    }\n",
       "\n",
       "    .dataframe tbody tr th {\n",
       "        vertical-align: top;\n",
       "    }\n",
       "\n",
       "    .dataframe thead th {\n",
       "        text-align: right;\n",
       "    }\n",
       "</style>\n",
       "<table border=\"1\" class=\"dataframe\">\n",
       "  <thead>\n",
       "    <tr style=\"text-align: right;\">\n",
       "      <th></th>\n",
       "      <th>country</th>\n",
       "      <th>ease_ind</th>\n",
       "      <th>cost_ind</th>\n",
       "      <th>disclosure_ind</th>\n",
       "    </tr>\n",
       "  </thead>\n",
       "  <tbody>\n",
       "    <tr>\n",
       "      <th>145</th>\n",
       "      <td>Rwanda</td>\n",
       "      <td>38.0</td>\n",
       "      <td>0.0</td>\n",
       "      <td>8.0</td>\n",
       "    </tr>\n",
       "    <tr>\n",
       "      <th>59</th>\n",
       "      <td>United Kingdom</td>\n",
       "      <td>8.0</td>\n",
       "      <td>0.0</td>\n",
       "      <td>10.0</td>\n",
       "    </tr>\n",
       "    <tr>\n",
       "      <th>160</th>\n",
       "      <td>Slovenia</td>\n",
       "      <td>37.0</td>\n",
       "      <td>0.0</td>\n",
       "      <td>5.0</td>\n",
       "    </tr>\n",
       "    <tr>\n",
       "      <th>77</th>\n",
       "      <td>Ireland</td>\n",
       "      <td>24.0</td>\n",
       "      <td>0.1</td>\n",
       "      <td>9.0</td>\n",
       "    </tr>\n",
       "    <tr>\n",
       "      <th>186</th>\n",
       "      <td>South Africa</td>\n",
       "      <td>84.0</td>\n",
       "      <td>0.2</td>\n",
       "      <td>8.0</td>\n",
       "    </tr>\n",
       "  </tbody>\n",
       "</table>\n",
       "</div>"
      ],
      "text/plain": [
       "            country  ease_ind  cost_ind  disclosure_ind\n",
       "145          Rwanda      38.0       0.0             8.0\n",
       "59   United Kingdom       8.0       0.0            10.0\n",
       "160        Slovenia      37.0       0.0             5.0\n",
       "77          Ireland      24.0       0.1             9.0\n",
       "186    South Africa      84.0       0.2             8.0"
      ]
     },
     "execution_count": 44,
     "metadata": {},
     "output_type": "execute_result"
    },
    {
     "data": {
      "image/png": "[encoded data removed]",
      "text/plain": [
       "<Figure size 432x288 with 1 Axes>"
      ]
     },
     "metadata": {
      "needs_background": "light"
     },
     "output_type": "display_data"
    }
   ],
   "source": [
    "top_5_cost =  df.sort_values(by= ['cost_ind'])[:5]\n",
    "visualise_it (top_5_cost)\n",
    "top_5_cost"
   ]
  },
  {
   "cell_type": "markdown",
   "metadata": {},
   "source": [
    "Same as the above, i have sorted the data in an ascending order according to the cost_ind and get the top five rows that represent this information.\n",
    "\n",
    "As we have said that the less the cost the better, so the less is the preferable value.\n",
    "\n",
    "The answer to the second part of the question is here, which is the first five countries mentioned above. \n",
    "\n",
    "From the table, i can tell that Rwanda is the one with the least cost, as it is the first.\n",
    "But from the chart, i can tell that the best option is United kingdom as it has no cost just as rwanda but it is the best in ease_ind as it has also the lowest ease_ind, in addition to the higher disclosure which is even better.\n",
    "\n",
    "So, the best option here is United Kingdom."
   ]
  },
  {
   "cell_type": "code",
   "execution_count": 45,
   "metadata": {
    "scrolled": true
   },
   "outputs": [
    {
     "name": "stdout",
     "output_type": "stream",
     "text": [
      "AxesSubplot(0.125,0.125;0.775x0.755)\n"
     ]
    },
    {
     "data": {
      "text/html": [
       "<div>\n",
       "<style scoped>\n",
       "    .dataframe tbody tr th:only-of-type {\n",
       "        vertical-align: middle;\n",
       "    }\n",
       "\n",
       "    .dataframe tbody tr th {\n",
       "        vertical-align: top;\n",
       "    }\n",
       "\n",
       "    .dataframe thead th {\n",
       "        text-align: right;\n",
       "    }\n",
       "</style>\n",
       "<table border=\"1\" class=\"dataframe\">\n",
       "  <thead>\n",
       "    <tr style=\"text-align: right;\">\n",
       "      <th></th>\n",
       "      <th>country</th>\n",
       "      <th>ease_ind</th>\n",
       "      <th>cost_ind</th>\n",
       "      <th>disclosure_ind</th>\n",
       "    </tr>\n",
       "  </thead>\n",
       "  <tbody>\n",
       "    <tr>\n",
       "      <th>59</th>\n",
       "      <td>United Kingdom</td>\n",
       "      <td>8.0</td>\n",
       "      <td>0.0</td>\n",
       "      <td>10.0</td>\n",
       "    </tr>\n",
       "    <tr>\n",
       "      <th>160</th>\n",
       "      <td>Slovenia</td>\n",
       "      <td>37.0</td>\n",
       "      <td>0.0</td>\n",
       "      <td>5.0</td>\n",
       "    </tr>\n",
       "    <tr>\n",
       "      <th>145</th>\n",
       "      <td>Rwanda</td>\n",
       "      <td>38.0</td>\n",
       "      <td>0.0</td>\n",
       "      <td>8.0</td>\n",
       "    </tr>\n",
       "    <tr>\n",
       "      <th>77</th>\n",
       "      <td>Ireland</td>\n",
       "      <td>24.0</td>\n",
       "      <td>0.1</td>\n",
       "      <td>9.0</td>\n",
       "    </tr>\n",
       "    <tr>\n",
       "      <th>129</th>\n",
       "      <td>New Zealand</td>\n",
       "      <td>1.0</td>\n",
       "      <td>0.2</td>\n",
       "      <td>10.0</td>\n",
       "    </tr>\n",
       "  </tbody>\n",
       "</table>\n",
       "</div>"
      ],
      "text/plain": [
       "            country  ease_ind  cost_ind  disclosure_ind\n",
       "59   United Kingdom       8.0       0.0            10.0\n",
       "160        Slovenia      37.0       0.0             5.0\n",
       "145          Rwanda      38.0       0.0             8.0\n",
       "77          Ireland      24.0       0.1             9.0\n",
       "129     New Zealand       1.0       0.2            10.0"
      ]
     },
     "execution_count": 45,
     "metadata": {},
     "output_type": "execute_result"
    },
    {
     "data": {
      "image/png": "[encoded data removed]",
      "text/plain": [
       "<Figure size 432x288 with 1 Axes>"
      ]
     },
     "metadata": {
      "needs_background": "light"
     },
     "output_type": "display_data"
    }
   ],
   "source": [
    "top_5_both_cost =  df.sort_values(by= ['cost_ind', 'ease_ind'])[:5]\n",
    "visualise_it (top_5_both_cost)\n",
    "top_5_both_cost"
   ]
  },
  {
   "cell_type": "markdown",
   "metadata": {},
   "source": [
    "wait if you compare this one and the next together as they both has the same goal, which is to sort by both but..\n",
    "\n",
    "Both has different output because one is prioritrizing the cost which mean that first sort the cost_ind with lowest then the lowest ease_ind associated to it.\n",
    "As the UK adn Slovania both has zero cost_ind but UK first as it has the lower ease_ind.\n",
    "\n",
    "\n",
    "So, from the cost, the best options is the first three countries, but considering the ease_ind and disclosure_ind, the best option is united kingdom."
   ]
  },
  {
   "cell_type": "code",
   "execution_count": 46,
   "metadata": {},
   "outputs": [
    {
     "name": "stdout",
     "output_type": "stream",
     "text": [
      "AxesSubplot(0.125,0.125;0.775x0.755)\n"
     ]
    },
    {
     "data": {
      "text/html": [
       "<div>\n",
       "<style scoped>\n",
       "    .dataframe tbody tr th:only-of-type {\n",
       "        vertical-align: middle;\n",
       "    }\n",
       "\n",
       "    .dataframe tbody tr th {\n",
       "        vertical-align: top;\n",
       "    }\n",
       "\n",
       "    .dataframe thead th {\n",
       "        text-align: right;\n",
       "    }\n",
       "</style>\n",
       "<table border=\"1\" class=\"dataframe\">\n",
       "  <thead>\n",
       "    <tr style=\"text-align: right;\">\n",
       "      <th></th>\n",
       "      <th>country</th>\n",
       "      <th>ease_ind</th>\n",
       "      <th>cost_ind</th>\n",
       "      <th>disclosure_ind</th>\n",
       "    </tr>\n",
       "  </thead>\n",
       "  <tbody>\n",
       "    <tr>\n",
       "      <th>129</th>\n",
       "      <td>New Zealand</td>\n",
       "      <td>1.0</td>\n",
       "      <td>0.2</td>\n",
       "      <td>10.0</td>\n",
       "    </tr>\n",
       "    <tr>\n",
       "      <th>149</th>\n",
       "      <td>Singapore</td>\n",
       "      <td>2.0</td>\n",
       "      <td>0.4</td>\n",
       "      <td>10.0</td>\n",
       "    </tr>\n",
       "    <tr>\n",
       "      <th>70</th>\n",
       "      <td>Hong Kong, China</td>\n",
       "      <td>3.0</td>\n",
       "      <td>0.5</td>\n",
       "      <td>10.0</td>\n",
       "    </tr>\n",
       "    <tr>\n",
       "      <th>45</th>\n",
       "      <td>Denmark</td>\n",
       "      <td>4.0</td>\n",
       "      <td>0.2</td>\n",
       "      <td>7.0</td>\n",
       "    </tr>\n",
       "    <tr>\n",
       "      <th>92</th>\n",
       "      <td>South Korea</td>\n",
       "      <td>5.0</td>\n",
       "      <td>14.6</td>\n",
       "      <td>8.0</td>\n",
       "    </tr>\n",
       "  </tbody>\n",
       "</table>\n",
       "</div>"
      ],
      "text/plain": [
       "              country  ease_ind  cost_ind  disclosure_ind\n",
       "129       New Zealand       1.0       0.2            10.0\n",
       "149         Singapore       2.0       0.4            10.0\n",
       "70   Hong Kong, China       3.0       0.5            10.0\n",
       "45            Denmark       4.0       0.2             7.0\n",
       "92        South Korea       5.0      14.6             8.0"
      ]
     },
     "execution_count": 46,
     "metadata": {},
     "output_type": "execute_result"
    },
    {
     "data": {
      "image/png": "[encoded data removed]",
      "text/plain": [
       "<Figure size 432x288 with 1 Axes>"
      ]
     },
     "metadata": {
      "needs_background": "light"
     },
     "output_type": "display_data"
    }
   ],
   "source": [
    "top_5_both_ease =  df.sort_values(by= ['ease_ind', 'cost_ind'])[:5]\n",
    "visualise_it (top_5_both_ease)\n",
    "top_5_both_ease"
   ]
  },
  {
   "cell_type": "markdown",
   "metadata": {},
   "source": [
    "Both of them has the same target but give different values.\n",
    "It is because of sort_values and other builtin functions as nsmallest, the functions tend to sort or get the smallest based on the first mentioned column and then the second mentioned one.\n",
    "\n",
    "So, it depends on the priority you want!\n",
    "Simply, is the cost the most important feature to decide then the ease or vice versa?\n",
    "\n",
    "Here the best option here is New Zealand as it the lowest cost_ind and ease_ind yet from the highest in disclosure_ind."
   ]
  },
  {
   "cell_type": "markdown",
   "metadata": {},
   "source": [
    "<a id='conclusions'></a>\n",
    "## Conclusions\n",
    "\n",
    "> **Tip**: Finally, summarize your findings and the results that have been performed. Make sure that you are clear with regards to the limitations of your exploration. If you haven't done any statistical tests, do not imply any statistical conclusions. And make sure you avoid implying causation from correlation!\n",
    "\n",
    "> **Tip**: Once you are satisfied with your work, you should save a copy of the report in HTML or PDF form via the **File** > **Download as** submenu. Before exporting your report, check over it to make sure that the flow of the report is complete. You should probably remove all of the \"Tip\" quotes like this one so that the presentation is as tidy as possible. Congratulations!"
   ]
  },
  {
   "cell_type": "markdown",
   "metadata": {
    "collapsed": true
   },
   "source": [
    "**During data exploration**, i started with visualising and exploring the data to find relationship between it and patterns. that´s how i found out about the realtionship between cost_ind and ease_ind, yet the weak relationship between disclosure_ind and the ease_ind, and that there´s no relationship between it and cost_ind.\n",
    "\n",
    "**Answering questions:**\n",
    ">**answering first question**\n",
    "Then, i decided to approach the first question, by preparing a comparison between high and low ease_ind, in relation to the cost_ind. that´s how i found out that the answer is yes, the countries that has closer ease_ind to the 1, do have lower cost with difference achieved 35!.\n",
    "Anyway, it was clear that i can start to approach the second question adn be able to find the best options for the enterpreneur to start the business he/she wants.\n",
    "\n",
    ">**answering second question**\n",
    "While using the sort_values to answer the second question, i tend to analyse the top five in each feature to point out the best option.\n",
    ">>In the top five countries according to **ease_ind**, It was interesting to find out that \"New Zealand\" is the best option to start a business there, as it has least ease_ind, lower cost and highest disclosure_ind.\n",
    ">\n",
    ">>In the top five countries according to **cost_ind**, The best option is \"United Kingdom\" as it has the lowest ease_ind and zero cost_ind yet the highest in disclosure_ind.\n",
    ">\n",
    ">>In the top five countries according to **both**, i found out that it differs sepending on prioritrizing which column, anyway, it was clear that by prioritrizing ease_ind, it is new Zealan which is the same as we concluded by analysing the chart, as well as, by prioritrizing cost_ind, it is UK. but this has two reasons, first is that we compared and analysed the bar chart adn seond was the luck of having same order in both tables as is ease_ind only and ease_ind both, let me prove that by including the cost_ind, you will find that the order of the countries,  has differ according in the cost_ind only and cost_ind in both.\n",
    "So, the conclusion is that by getting the best preferable value and analysing the chart, we have top 5 countries which answer for each part of the question but the best two options are 'New zealan' and 'United kingdom'.\n",
    ">\n",
    "\n",
    "**Additional research**\n",
    "This data didn´t consider a more thorough analysis considering the gender, as the ease_ind is normalised by % of GNI per capita.\n",
    "So, if we consider the female and male precentages, we could know more information and analysis in a more detailed manner, anyway, this type of data is available on gap minder, other dataset, private sector & trade in business environment.\n",
    "\n",
    "\n",
    "**Limitations**\n",
    "This analysis is just for one year which is 2019, this is a huge limitation and it caused by \"the ease of doing business index\" dataset as it is provided for just this year. I believe if it was avaliable for different year, so we code compare years adn come up with trends among the year, that would be very helpful. \n",
    "\n",
    "\n"
   ]
  },
  {
   "cell_type": "code",
   "execution_count": null,
   "metadata": {},
   "outputs": [],
   "source": []
  }
 ],
 "metadata": {
  "kernelspec": {
   "display_name": "Python 3 (ipykernel)",
   "language": "python",
   "name": "python3"
  },
  "language_info": {
   "codemirror_mode": {
    "name": "ipython",
    "version": 3
   },
   "file_extension": ".py",
   "mimetype": "text/x-python",
   "name": "python",
   "nbconvert_exporter": "python",
   "pygments_lexer": "ipython3",
   "version": "3.9.7"
  }
 },
 "nbformat": 4,
 "nbformat_minor": 2
}
